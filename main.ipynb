{
 "cells": [
  {
   "cell_type": "markdown",
   "id": "86a4ad69",
   "metadata": {},
   "source": [
    "# ESfunfuzz——针对JavaScript引擎的一致性缺陷检测系统\n",
    "- 基于差分模糊测试的思想，通过构造大量测试用例输入到多个JavaScript引擎中进行差分测试的方式来对引擎的一致性缺陷进行检测；\n",
    "- 通过从ECMA-Script262标准文档中自动解析出的有效的语义信息来指导用例进行定向突变，使得用例能够覆盖引擎的更多分支，从而提高检测效率。\n",
    "\n",
    "\n",
    "<img src=\"Images/整体流程概述.png\" style=\"zoom:50%; float:left;\" />\n",
    "\n",
    "\n",
    "### 阶段一：语法标准解析\n",
    "通过自定义的标准解析器，从ECMAScript-262标准文档中解析出有效的语义信息，并存入语义数据库，用于后续指导用例突变；\n",
    "<br>\n",
    "<br>\n",
    "<br>\n",
    "\n",
    "### 阶段二：生成模型构建\n",
    "首先从GitHub上获取到大量的JavaScript文件，并将其经过预处理后构成语料库，并利用该语料库训练一个基于神经语言模型的代码生成模型，用于后续生成用例；\n",
    "<br>\n",
    "<br>\n",
    "<br>\n",
    "\n",
    "### 阶段三：差分模糊测试\n",
    "收集各个引擎的回归测试用例构成种子池，每次从池中随机选择一个种子用例，并分别对其进行定向突变和续写生成，得到新用例；并对新用例进行差分模糊测试，以获得触发引擎不一致行为的可疑用例；最后对可疑用例进行人工分析，以确定引擎缺陷。循环此过程以便于对引擎进行长期的测试。"
   ]
  },
  {
   "cell_type": "markdown",
   "id": "6584bdd9",
   "metadata": {},
   "source": [
    "## 注意事项\n",
    "此Jupyter笔记本仅对ESfunfuzz系统的**核心环节——差分模糊测试阶段**（包括用例突变、用例续写、差分模糊测试、实验信息统计）进行小规模的演示，**第一、二阶段将被略过**；假如你需要长期的进行实际测试，请使用配套提供的Docker命令行；\n",
    "\n",
    "本文件作为标准的演示文件，**请不要直接执行或修改本文件**。\n",
    "\n",
    "## 如何开始\n",
    "首先请先返回主页，点击 `main.ipynb` 的选中框，然后点击上方的 `Duplicate` 按钮， 创建一个拷贝文件；之后进入该文件，依次点击 `Kernel` -> `Restart & Clear Output` 清空之前的记录；之后依次点击 `Cell` -> `Run All` 按钮，即可开始整个文件的演示运行；又或者你可以点击某个具体的单元格，点击播放按钮来运行它（注意，有些单元依赖于正在执行的前一个单元。如果出现任何错误，请确保执行了之前的所有单元格）。\n",
    "\n",
    "某些Cell可能需要几分钟才能完成，运行后请耐心等待结果，之后再进入下一个单元。"
   ]
  },
  {
   "cell_type": "markdown",
   "id": "860feb37",
   "metadata": {},
   "source": [
    "## Step1.测试用例生成\n",
    "### Step1.1 随机从种子池中选择种子用例\n",
    "用例生成的第一个步骤就是从种子池中随机挑选一个种子用例。然而，由于种子用例选取具有较大随机性，且会直接影响后续的用例生成和模糊测试过程。因此，为了保证后续步骤的演示效果，此处我们人工设定了**一个固定的种子用例，该用例与论文第三章保持一致。**"
   ]
  },
  {
   "cell_type": "code",
   "execution_count": 1,
   "id": "5481249e",
   "metadata": {},
   "outputs": [
    {
     "name": "stdout",
     "output_type": "stream",
     "text": [
      "本次选择的种子用例为：\n",
      "var NISLFuzzingFunc = function() {\n",
      "    var temp = Number(1).toString(\"Hello\"); \n",
      "    print(temp);\n",
      "}\n",
      "NISLFuzzingFunc();\n"
     ]
    }
   ],
   "source": [
    "from CodeGenerator.conf import hparams\n",
    "from Fuzzer.testcase import DataBase\n",
    "\n",
    "# 建立数据库连接，从中挑选出一个随机的种子用例\n",
    "database = DataBase(hparams.seed_pool_url)\n",
    "seed_testcase = database.get_a_record_randomly().testcase\n",
    "\n",
    "# 人工设定一个固定的种子用例\n",
    "seed_testcase = \"\"\"var NISLFuzzingFunc = function() {\n",
    "    var temp = Number(1).toString(\"Hello\"); \n",
    "    print(temp);\n",
    "}\n",
    "NISLFuzzingFunc();\"\"\"\n",
    "\n",
    "print(f'本次选择的种子用例为：\\n{seed_testcase}')"
   ]
  },
  {
   "cell_type": "markdown",
   "id": "61a6232a",
   "metadata": {},
   "source": [
    "### Step1.2 测试用例定向突变\n",
    "接下来将开始针对该种子用例进行定向突变，首先分析该用例中的相关API，并查询语义数据库，获得与该用例相关的语义信息。此步骤对应于论文第三章。\n",
    "\n",
    "查询结果包含以下字段:\n",
    "- name: 传递给JS API的参数名称\n",
    "- type: 参数的潜在类型（由ESfunfuzz根据标准判断）\n",
    "- conditions: 与API输入参数相关的条件语句\n",
    "- scope: 根据条件语句判断出的参数候选范围\n",
    "- values: 根据参数候选范围确定的该参数的候选值"
   ]
  },
  {
   "cell_type": "code",
   "execution_count": 2,
   "id": "d1d093f1",
   "metadata": {},
   "outputs": [
    {
     "name": "stdout",
     "output_type": "stream",
     "text": [
      "该用例相关的语义信息如下：\n",
      "Number.prototype.toString:\n",
      "{\n",
      "    \"name\": \"radix\",\n",
      "    \"type\": \"integer\",\n",
      "    \"conditions\": [\n",
      "        \"radix === undefined\",\n",
      "        \"radix === undefined\",\n",
      "        \"radix < 2\",\n",
      "        \"radix > 36\",\n",
      "        \"radix === 10\"\n",
      "    ],\n",
      "    \"scopes\": [\n",
      "        2,\n",
      "        36\n",
      "    ],\n",
      "    \"values\": [\n",
      "        \"undefined\",\n",
      "        10,\n",
      "        1,\n",
      "        37,\n",
      "        7,\n",
      "        \"NaN\",\n",
      "        0,\n",
      "        \"Infinity\",\n",
      "        \"-Infinity\"\n",
      "    ]\n",
      "}\n",
      "==================================================\n",
      "Number:\n",
      "{\n",
      "    \"name\": \"value\",\n",
      "    \"type\": \"number\",\n",
      "    \"conditions\": [],\n",
      "    \"scopes\": [],\n",
      "    \"values\": []\n",
      "}\n",
      "==================================================\n"
     ]
    }
   ],
   "source": [
    "from CaseMutator.mutator import Mutator\n",
    "\n",
    "new_testcases = []\n",
    "\n",
    "# 打印语义信息\n",
    "print('该用例相关的语义信息如下：')\n",
    "mutator = Mutator()\n",
    "query_result = mutator.get_semantic_info(seed_testcase)\n",
    "mutator.print_info(query_result)"
   ]
  },
  {
   "cell_type": "markdown",
   "id": "a53db936",
   "metadata": {},
   "source": [
    "接着，根据查询到的语义信息对用例做定向突变，生成若干新用例。"
   ]
  },
  {
   "cell_type": "code",
   "execution_count": 3,
   "id": "acd85e0a",
   "metadata": {},
   "outputs": [
    {
     "name": "stdout",
     "output_type": "stream",
     "text": [
      "突变生成的新测试用例如下：\n",
      "==================================================\n",
      "var NISLFuzzingFunc = function (nislMutationParameter0) {\n",
      "    var temp = Number(1).toString(nislMutationParameter0);\n",
      "    print(temp);\n",
      "};\n",
      "var nislMutationArgument0 = \"-\";\n",
      "NISLFuzzingFunc(nislMutationArgument0);\n",
      "==================================================\n",
      "var NISLFuzzingFunc = function (nislMutationParameter0) {\n",
      "    var temp = Number(1).toString(nislMutationParameter0);\n",
      "    print(temp);\n",
      "};\n",
      "var nislMutationArgument0 = 37;\n",
      "NISLFuzzingFunc(nislMutationArgument0);\n",
      "==================================================\n",
      "var NISLFuzzingFunc = function (nislMutationParameter0) {\n",
      "    var temp = Number(nislMutationParameter0).toString('Hello');\n",
      "    print(temp);\n",
      "};\n",
      "var nislMutationArgument0 = 298389;\n",
      "NISLFuzzingFunc(nislMutationArgument0);\n",
      "==================================================\n",
      "var NISLFuzzingFunc = function (nislMutationParameter0) {\n",
      "    var temp = Number(1).toString(nislMutationParameter0);\n",
      "    print(temp);\n",
      "};\n",
      "var nislMutationArgument0 = 1028797;\n",
      "NISLFuzzingFunc(nislMutationArgument0);\n",
      "==================================================\n",
      "var NISLFuzzingFunc = function (nislMutationParameter0) {\n",
      "    var temp = Number(nislMutationParameter0).toString('Hello');\n",
      "    print(temp);\n",
      "};\n",
      "var nislMutationArgument0 = null;\n",
      "NISLFuzzingFunc(nislMutationArgument0);\n",
      "==================================================\n",
      "var NISLFuzzingFunc = function (nislMutationParameter0) {\n",
      "    var temp = Number(nislMutationParameter0).toString('Hello');\n",
      "    print(temp);\n",
      "};\n",
      "var nislMutationArgument0 = \"0\";\n",
      "NISLFuzzingFunc(nislMutationArgument0);\n",
      "==================================================\n",
      "var NISLFuzzingFunc = function (nislMutationParameter0) {\n",
      "    var temp = Number(1).toString(nislMutationParameter0);\n",
      "    print(temp);\n",
      "};\n",
      "var nislMutationArgument0 = 7;\n",
      "NISLFuzzingFunc(nislMutationArgument0);\n",
      "==================================================\n",
      "var NISLFuzzingFunc = function (nislMutationParameter0) {\n",
      "    var temp = Number(1).toString(nislMutationParameter0);\n",
      "    print(temp);\n",
      "};\n",
      "var nislMutationArgument0 = undefined;\n",
      "NISLFuzzingFunc(nislMutationArgument0);\n",
      "==================================================\n",
      "var NISLFuzzingFunc = function (nislMutationParameter0) {\n",
      "    var temp = Number(1).toString(nislMutationParameter0);\n",
      "    print(temp);\n",
      "};\n",
      "var nislMutationArgument0 = true;\n",
      "NISLFuzzingFunc(nislMutationArgument0);\n",
      "==================================================\n",
      "var NISLFuzzingFunc = function (nislMutationParameter0) {\n",
      "    var temp = Number(nislMutationParameter0).toString('Hello');\n",
      "    print(temp);\n",
      "};\n",
      "var nislMutationArgument0 = {\"0\":269781,\"3266\":[],\"22717\":\"-\",\"26541\":[],\"30851\":[],\"77395\":[],\"107898\":null,\"157666\":277128,\"197337\":704860,\"197875\":\"%ED%AF%BF\",\"258036\":[],\"261302\":[],\"312804\":null,\"336097\":376920,\"336595\":[],\"364321\":false,\"404147\":[],\"464842\":421685,\"487919\":false,\"568865\":795780,\"589967\":null,\"606955\":[],\"638782\":1032073,\"640630\":\"-\",\"658654\":\"%ED%AF%BF\",\"689316\":920793,\"691808\":409781,\"709982\":null,\"740687\":null,\"811968\":true,\"813136\":[],\"865880\":[],\"903459\":true,\"980020\":\"(?`Ye_q)1qBH3<562XjS%@J\",\"1041079\":[],\"I6t!jNOl#hv8XAN3!S+lG!MZS+DxhWS\":648205,\"i^Dhakfi~J\":1045779,\"j3V3jcqXEfR+f7?f>\":true,\"?VN?tm&*Jb@QLcI4EN\":null,\"\":470688,\"~U5td\":\"0\",\"3ibJ&a&206x#o\":false,\"S>\":\"eI?*ZC_<DcH8~?T!%yW%sD+WA4#eJ\",\"69CBzcy\":true,\"#oL\":true,\"^4D~BUy*+34O*?b+H?f9pFt\":false,\"%ED%AF%BF\":\"-\",\"t\":null,\"drAxtdkAVicyV)<9ryX)Crgkm@0\":[],\"+\":1026660,\"l+Ri6KAt>n)q`Twl+Tor_0##Ddu\":true,\"rkT+waz`36gv^H0M\":false,\"LS9+3fXOr+**n\":498007,\"YrQMvV(zTDN6>CX$z!S\":928121,\"?Fhl!H9s^(Kfz^A4hfS9lW\":[],\"*rydRzp*>Xj1Hr$yW!w7l\":\"-\",\"?Yj)aJE$w)?2?hqH2YD?y+oPw1rWm\":null,\"5&nRQmK88EjWmJu$d\":[],\"?Tso@?@zZyQXUN7y_L9\":false};\n",
      "NISLFuzzingFunc(nislMutationArgument0);\n",
      "==================================================\n",
      "var NISLFuzzingFunc = function (nislMutationParameter0) {\n",
      "    var temp = Number(1).toString(nislMutationParameter0);\n",
      "    print(temp);\n",
      "};\n",
      "var nislMutationArgument0 = null;\n",
      "NISLFuzzingFunc(nislMutationArgument0);\n",
      "==================================================\n",
      "var NISLFuzzingFunc = function (nislMutationParameter0) {\n",
      "    var temp = Number(1).toString(nislMutationParameter0);\n",
      "    print(temp);\n",
      "};\n",
      "var nislMutationArgument0 = [\"!Elo3&jtydbwxyqG@*Y\",298607,true,\"-\",[],832550,236666,[],169710,null,false,491732,517293,false,\"l*NIUgy3@8n@J7Q5e)46NT1RVSN\",\"-\",null,[],null,null,[],null,null,null,[],[],null,null,true,\"\",\"\",\"dE<2W%v96nC7p~$*g\",null,null,null,null,true,null,null,\"0\",\"Iz$>8>Gz(K?K\",[],null,null,\"9`HgLymP(^dj&4oQ3dLdKPI\",null,true,null,[],467456,true,false,[],true,\"wHp`0h\",744201,null,null,true,743375,683985,[],\"0\",\"\",null,null,355809,null,606462,null,null,null,279419];\n",
      "NISLFuzzingFunc(nislMutationArgument0);\n",
      "==================================================\n",
      "var NISLFuzzingFunc = function (nislMutationParameter0) {\n",
      "    var temp = Number(1).toString(nislMutationParameter0);\n",
      "    print(temp);\n",
      "};\n",
      "var nislMutationArgument0 = 0;\n",
      "NISLFuzzingFunc(nislMutationArgument0);\n",
      "==================================================\n",
      "var NISLFuzzingFunc = function () {\n",
      "    var temp = Number(1).toString('Hello');\n",
      "    print(temp);\n",
      "};\n",
      "NISLFuzzingFunc();\n",
      "==================================================\n",
      "var NISLFuzzingFunc = function (nislMutationParameter0) {\n",
      "    var temp = Number(nislMutationParameter0).toString('Hello');\n",
      "    print(temp);\n",
      "};\n",
      "var nislMutationArgument0 = true;\n",
      "NISLFuzzingFunc(nislMutationArgument0);\n",
      "==================================================\n",
      "var NISLFuzzingFunc = function (nislMutationParameter0) {\n",
      "    var temp = Number(nislMutationParameter0).toString('Hello');\n",
      "    print(temp);\n",
      "};\n",
      "var nislMutationArgument0 = undefined;\n",
      "NISLFuzzingFunc(nislMutationArgument0);\n",
      "==================================================\n",
      "var NISLFuzzingFunc = function (nislMutationParameter0) {\n",
      "    var temp = Number(1).toString(nislMutationParameter0);\n",
      "    print(temp);\n",
      "};\n",
      "var nislMutationArgument0 = 1;\n",
      "NISLFuzzingFunc(nislMutationArgument0);\n",
      "==================================================\n",
      "var NISLFuzzingFunc = function (nislMutationParameter0) {\n",
      "    var temp = Number(1).toString(nislMutationParameter0);\n",
      "    print(temp);\n",
      "};\n",
      "var nislMutationArgument0 = 10;\n",
      "NISLFuzzingFunc(nislMutationArgument0);\n"
     ]
    }
   ],
   "source": [
    "# 用例突变\n",
    "mutated_testcases = mutator.mutate(seed_testcase)\n",
    "new_testcases += mutated_testcases\n",
    "\n",
    "print(\"突变生成的新测试用例如下：\")\n",
    "for i in mutated_testcases:\n",
    "    print('=' * 50)\n",
    "    print(i)"
   ]
  },
  {
   "cell_type": "markdown",
   "id": "f1b5131f",
   "metadata": {},
   "source": [
    "### Step1.3 测试用例续写生成\n",
    "第二种产生新用例的方式就是使用模型对用例进行自动续写。此步骤对应于论文第四章。"
   ]
  },
  {
   "cell_type": "code",
   "execution_count": 4,
   "id": "9b76ff60",
   "metadata": {},
   "outputs": [
    {
     "name": "stdout",
     "output_type": "stream",
     "text": [
      "正在恢复词汇表和模型，请稍等...\n",
      "============================================================\n",
      "模型续写生成的新用例为：\n",
      "var NISLFuzzingFunc = function() {\n",
      "    var temp = Number(1).toString(\"Hello\"); \n",
      "    print(temp);\n",
      "}\n",
      "NISLFuzzingFunc();var test = new Function('this.foo = 1'); test('foo', function () { return test(); }); test('foo', function () { return test(function () { return test(); }).toString(); }); test('foo bar test foo', function () { assert.equal(test.foo, 1); }); test('foo bar', function () { assert.equal(test(), 'foo'); }); test('foo', function () { assert.equal(test(false), 'foo'); }); test('foo', function () { assert.equal(test(false), false); }); test('foo', function () { assert.equal(test(false), false); }); test('fails', function () { assert.equal(test, false); }); test('fails with a function', function () { assert.equal(fail, false); }); test('fails', function () { assert.equal(false, false); }); test('fails that a new fails', function () { assert.equal(false, false); }); test('fail', function () { assert.fail(function () { fn(); }, TypeError); }); test('fails', function () { assert.equal(test(false), false); }); test('fail thrown function', function () { assert.deepEqual([ false, false, false ], false, 'fail'); }); test('fails', function () { assert.fail(function () { throw new Error('foobar'); }, TypeError); }); test('fails', function () { assert.equal(fail, false); }); test('fails', function () { assert.equal(false, false); }); test('fails', function () { assert.fail(function () { throw new Error('foo'); }); }); test('failed with this test', function () { assert.equal(tasks, false); });\n"
     ]
    }
   ],
   "source": [
    "import os\n",
    "import torch\n",
    "\n",
    "from CodeGenerator.utils import load_json, syntax_check\n",
    "from CodeGenerator.sample import sample_solo\n",
    "\n",
    "device = torch.device(f\"cuda:{hparams.gpu}\" if torch.cuda.is_available() else \"cpu\")\n",
    "\n",
    "# 读取工作路径和训练词汇表\n",
    "print(\"正在恢复词汇表和模型，请稍等...\")\n",
    "workspace_path = os.path.dirname(hparams.gen_model)\n",
    "token_to_idx = load_json(os.path.join(workspace_path, 'token_to_idx.json'))\n",
    "idx_to_token = load_json(os.path.join(workspace_path, 'idx_to_token.json'), transfer=True)\n",
    "\n",
    "# 恢复模型\n",
    "model = torch.load(hparams.gen_model, map_location=f'cuda:{hparams.gpu}').to(device)\n",
    "model.device = device\n",
    "\n",
    "# 续写生成新用例\n",
    "while True:\n",
    "    generated_testcase = sample_solo(model=model,\n",
    "                             prefix=seed_testcase + 'var ',\n",
    "                             max_gen_length=hparams.max_gen_length,\n",
    "                             token_to_idx=token_to_idx,\n",
    "                             idx_to_token=idx_to_token,\n",
    "                             segment_length=hparams.segment_length,\n",
    "                             new_line_number=hparams.new_line_number,\n",
    "                             temperature=hparams.temperature,\n",
    "                             sample=hparams.sample)\n",
    "    if syntax_check(generated_testcase):\n",
    "        break\n",
    "\n",
    "new_testcases.append(generated_testcase)\n",
    "print('=' * 60)\n",
    "print('模型续写生成的新用例为：')\n",
    "print(generated_testcase)"
   ]
  },
  {
   "cell_type": "markdown",
   "id": "fccbd416",
   "metadata": {},
   "source": [
    "此时，我们使用定向突变和模型续写这两种方法生成了多个新用例，接着将会对这些用例进行差分模糊测试。"
   ]
  },
  {
   "cell_type": "markdown",
   "id": "aa80a267",
   "metadata": {},
   "source": [
    "## Step2.差分模糊测试\n",
    "### Step2.1 引擎执行\n",
    "用例生成的第一个步骤就是从种子池中随机挑选一个种子用例。然而，由于种子用例选取具有较大随机性，且会直接影响后续的用例生成和模糊测试过程。因此，为了保证后续步骤的演示效果，此处我们人工设定了。**此步骤对应于论文章节4.4.2**。"
   ]
  },
  {
   "cell_type": "code",
   "execution_count": 5,
   "id": "efaab692",
   "metadata": {},
   "outputs": [
    {
     "name": "stderr",
     "output_type": "stream",
     "text": [
      "\r",
      "  0%|          | 0/19 [00:00<?, ?it/s]"
     ]
    },
    {
     "name": "stdout",
     "output_type": "stream",
     "text": [
      "正在对新生成的用例进行差分模糊测试，请等待...\n"
     ]
    },
    {
     "name": "stderr",
     "output_type": "stream",
     "text": [
      " 21%|██        | 4/19 [00:01<00:05,  2.83it/s]"
     ]
    },
    {
     "name": "stdout",
     "output_type": "stream",
     "text": [
      "====发现可疑用例，该用例为：====\n",
      "\n",
      "var NISLFuzzingFunc = function (nislMutationParameter0) {\n",
      "    var temp = Number(nislMutationParameter0).toString('Hello');\n",
      "    print(temp);\n",
      "};\n",
      "var nislMutationArgument0 = null;\n",
      "NISLFuzzingFunc(nislMutationArgument0);\n",
      "============================================================\n",
      "该用例的执行结果如下：\n",
      "\u001b[1;34;48m- 引擎名称：spidermonkey, 结果类别： runtime_error\u001b[0m\n",
      "- 返回值：  3\n",
      "- 标准输出：\n",
      "- 标准错误：/tmp/javascriptTestcase_kumz_t4s.js:2:47 RangeError: radix must be an integer at least 2 and no greater than 36\n",
      "Stack:\n",
      "  NISLFuzzingFunc@/tmp/javascriptTestcase_kumz_t4s.js:2:47\n",
      "  @/tmp/javascriptTestcase_kumz_t4s.js:6:16\n",
      "============================================================\n",
      "\u001b[1;34;48m- 引擎名称：jsc, 结果类别： runtime_error\u001b[0m\n",
      "- 返回值：  3\n",
      "- 标准输出：Exception: RangeError: toString() radix argument must be between 2 and 36\n",
      "toString@[native code]\n",
      "NISLFuzzingFunc@/tmp/javascriptTestcase_kumz_t4s.js:2:55\n",
      "global code@/tmp/javascriptTestcase_kumz_t4s.js:6:16\n",
      "- 标准错误：\n",
      "============================================================\n",
      "\u001b[1;34;48m- 引擎名称：v8, 结果类别： runtime_error\u001b[0m\n",
      "- 返回值：  1\n",
      "- 标准输出：/tmp/javascriptTestcase_kumz_t4s.js:2: RangeError: toString() radix argument must be between 2 and 36\n",
      "    var temp = Number(nislMutationParameter0).toString('Hello');\n",
      "                                              ^\n",
      "RangeError: toString() radix argument must be between 2 and 36\n",
      "    at Number.toString (<anonymous>)\n",
      "    at NISLFuzzingFunc (/tmp/javascriptTestcase_kumz_t4s.js:2:47)\n",
      "    at /tmp/javascriptTestcase_kumz_t4s.js:6:1\n",
      "- 标准错误：\n",
      "============================================================\n",
      "\u001b[1;34;48m- 引擎名称：jerry, 结果类别： pass\u001b[0m\n",
      "- 返回值：  0\n",
      "- 标准输出：0\n",
      "- 标准错误：\n",
      "============================================================\n"
     ]
    },
    {
     "name": "stderr",
     "output_type": "stream",
     "text": [
      "\n"
     ]
    }
   ],
   "source": [
    "from tqdm import tqdm\n",
    "\n",
    "from Fuzzer.fuzzer import Fuzzer, Result\n",
    "\n",
    "def blue_print(str):\n",
    "    print(f\"\\033[1;34;48m{str}\\033[0m\")\n",
    "\n",
    "\n",
    "# 配置待测引擎和单个用例的最大执行时间\n",
    "hparams.engines = [\n",
    "    \"/root/.jsvu/sm\",\n",
    "    \"/root/.jsvu/jsc\",\n",
    "    \"/root/.jsvu/v8\",\n",
    "    \"/root/.jsvu/jerryscript-2.1.0/build/bin/jerry\"\n",
    "]\n",
    "hparams.timeout = 15\n",
    "\n",
    "#\n",
    "fuzzer = Fuzzer(hparams.engines, hparams.timeout)\n",
    "\n",
    "\n",
    "# 依次对新生成的用例进行差分模糊测试\n",
    "print('正在对新生成的用例进行差分模糊测试，请等待...')\n",
    "for testcase in tqdm(new_testcases):\n",
    "    new_fuzzing_result = fuzzer.run_testcase_multi_threads(testcase)\n",
    "    \n",
    "    # 假如某个用例触发了引擎的不一致行为，则立即停止（仅演示用，平常检测时不会停止）\n",
    "    if new_fuzzing_result.is_suspicious():\n",
    "        print('====发现可疑用例，该用例为：====\\n')\n",
    "        print(testcase)\n",
    "        print('=' * 60)\n",
    "        break\n",
    "\n",
    "# 展示该可疑用例\n",
    "print('该用例的执行结果如下：')\n",
    "for output in new_fuzzing_result.outputs:\n",
    "    blue_print(f'- 引擎名称：{output.engine_name}, 结果类别： {output.output_class}')\n",
    "    print(f'- 返回值：  {output.returncode}')\n",
    "    print(f'- 标准输出：{output.stdout.strip()}')\n",
    "    print(f'- 标准错误：{output.stderr.strip()}')\n",
    "    print('=' * 60)"
   ]
  },
  {
   "cell_type": "markdown",
   "id": "a16d1186",
   "metadata": {},
   "source": [
    "通过对该用例的执行结果进行观察，可以发现Jerry引擎的执行结果类别为 `pass(通过)`，与其余引擎的 `runtime_error(运行时异常)` 不一致，因此即该用例属于可疑用例，需要进行后续操作。"
   ]
  },
  {
   "cell_type": "markdown",
   "id": "1fd1157c",
   "metadata": {},
   "source": [
    "### Step2.2 种子池扩充\n",
    "发现可疑用例后，需要根据该用例的执行行为判断是否需要将该用例扩充进种子池。**此步骤对应于论文章节4.4.3**。\n",
    "\n",
    "判断的依据是论文中提到的“状态码判重法”，将每个引擎执行用例的行为细分为9个状态，并将其组合成为该用例最终的状态码，比较状态码在种子池中是否出现过来判断该用例是否重复。"
   ]
  },
  {
   "cell_type": "code",
   "execution_count": 6,
   "id": "3bd3aad1",
   "metadata": {},
   "outputs": [
    {
     "name": "stdout",
     "output_type": "stream",
     "text": [
      "============================================================\n",
      "各个引擎执行结果的状态码如下：\n",
      "- 引擎名称：spidermonkey, 结果类别： runtime_error， 状态码为：4\n",
      "- 引擎名称：jsc, 结果类别： runtime_error， 状态码为：4\n",
      "- 引擎名称：v8, 结果类别： runtime_error， 状态码为：4\n",
      "- 引擎名称：jerry, 结果类别： pass， 状态码为：1\n",
      "============================================================\n",
      "\u001b[1;34;48m因此，该用例最终的状态码为：4441\u001b[0m\n"
     ]
    }
   ],
   "source": [
    "new_fuzzing_testcase = Result.result_map_to_testcase(new_fuzzing_result, hparams.timeout, 0)\n",
    "\n",
    "print('=' * 60)\n",
    "print('各个引擎执行结果的状态码如下：')\n",
    "for output in new_fuzzing_result.outputs:\n",
    "    print(f'- 引擎名称：{output.engine_name}, 结果类别： {output.output_class}， 状态码为：{output.get_state_code()}')\n",
    "    \n",
    "print('=' * 60)\n",
    "blue_print(f'因此，该用例最终的状态码为：{new_fuzzing_testcase.state_code}')"
   ]
  },
  {
   "cell_type": "markdown",
   "id": "4afe56a0",
   "metadata": {},
   "source": [
    "之后，查询种子池判断该状态码是否已存在：\n",
    "- 假如已存在，则该用例被认定为重复，丢弃；\n",
    "- 假如不存在，则该用例被认定为有效，该用例将会加入到种子池中；\n",
    "\n",
    "（注意：此处为了有效演示，我们注释掉了向种子池中加入该用例的代码，使得该用例一直都是有效的）"
   ]
  },
  {
   "cell_type": "code",
   "execution_count": 7,
   "id": "463c9527",
   "metadata": {},
   "outputs": [
    {
     "name": "stdout",
     "output_type": "stream",
     "text": [
      "\u001b[1;34;48m该状态码在种子池中不存在，用例有效，已加入种子池\u001b[0m\n"
     ]
    }
   ],
   "source": [
    "# 根据状态码判重\n",
    "if database.compare_and_filter(new_fuzzing_testcase):\n",
    "    # database.add(new_fuzzing_testcase)\n",
    "    blue_print('该状态码在种子池中不存在，用例有效，已加入种子池')\n",
    "    \n",
    "else:\n",
    "    blue_print('该状态码在种子池中已存在，用例无效，丢弃')"
   ]
  },
  {
   "cell_type": "markdown",
   "id": "0af8a522",
   "metadata": {},
   "source": [
    "## Step3.人工分析\n",
    "\n",
    "当可疑用例被认定为有效，则需要对其进行人工分析，以确定其是否真的为引擎缺陷。人工分析主要包括用例精简、缺陷定位、标准推演以及编写并提交报告等四个步骤：\n",
    "1. 首先需要根据执行结果对用例进行不断地精简，直到能够定位到触发引擎不一致行为的具体代码；\n",
    "2. 随后查询ES标准，定位到该代码对应到标准中的具体条目；\n",
    "3. 之后人工按照标准的内容进行推导，以得到标准规定的预期行为；\n",
    "4. 最后将其实际行为与预期行为进行作对比，若引擎行为不符合标准预期，则说明该引擎在实现上确实存在缺陷，接着便编写缺陷报告，提交给开发商，等待后续确认；若一致，则说明本次属于误报，故跳过。\n",
    "\n",
    "**这一部分对应于论文章节4.4.4**。"
   ]
  },
  {
   "cell_type": "markdown",
   "id": "e6763620",
   "metadata": {},
   "source": [
    "## Step4.实验评估\n",
    "Step1到Step3展现了使用ESfunfuzz系统对JavaScript引擎进行差分模糊测试的完整流程。而Step4将展示论文所进行的实验评估及其结果，**对应于论文第五章**。"
   ]
  },
  {
   "cell_type": "markdown",
   "id": "f4219c30",
   "metadata": {},
   "source": [
    "### Step4.1 语言模型调优实验\n",
    "生成用例的质量将直接决定检测方法的效果。本文有两种用例生成方法，其中，基于标准文档分析的突变式方法由于是直接在语法树级别操作，所以一定不会带来语法错误，故不需要调优；而用例续写生成方法由于是使用神经语言模型进行自动续写的，可能会导致生成语法不正确的用例，对模糊测试的效率影响较大，因此需要对其进行调优。\n",
    "\n",
    "语言模型调优主要考虑数据的编码级别。编码级别是指在将训练数据编码成向量的过程中，基于怎样的粒度来进行切分。本文选择了字符（Char）级别、词级别（Word）以及字节对编码（Byte-pair-encoding, BPE）等三种不同级别进行实验，观察模型在不同级别下的表现。**此步骤对应于论文章节5.3.2**。"
   ]
  },
  {
   "cell_type": "code",
   "execution_count": 8,
   "id": "bb7c1054",
   "metadata": {},
   "outputs": [
    {
     "data": {
      "image/png": "[encoded data removed]",
      "text/plain": [
       "<Figure size 720x432 with 1 Axes>"
      ]
     },
     "metadata": {
      "needs_background": "light"
     },
     "output_type": "display_data"
    }
   ],
   "source": [
    "from Evaluation.Chapter_5_3_2.plot import plot\n",
    "plot()"
   ]
  },
  {
   "cell_type": "markdown",
   "id": "5c065472",
   "metadata": {},
   "source": [
    "### Step4.2 与其他工具的对比实验\n",
    "为了进一步验证本文方法的效果，需要将ESfunfuzz与当前最先进的其他模糊测试工具进行对比实验。本实验主要关注两个方面，即生成用例的质量以及缺陷检测的能力。本文选择的对比对象有四个，分别是Fuzzilli、CodeAlchemist、Montage和DIE，对它们的具体介绍参考章节1.2，它们都是近几年来最先进的针对于JavaScript引擎的模糊测试工具，与它们进行对比可以充分说明ESfunfuzz的有效性。\n",
    "\n",
    "#### Step4.2.1 生成用例质量对比\n",
    "生成用例的质量主要通过两方面来衡量，其一是用例的通过率，通过率越高则意味着测试效率越高；其二是代码覆盖率，代码覆盖率表示测试用例被执行到了多少，覆盖率越高说明用例的利用率越高，就也有可能触发引擎缺陷。覆盖率可以进一步细化为三种类型，即行覆盖率、分支覆盖率和方法覆盖率，分别表示语句行、条件分支和方法被执行到了多少，通过它们能对用例的质量进行一个比较全面的衡量。**此步骤对应于论文章节5.4.1**。"
   ]
  },
  {
   "cell_type": "code",
   "execution_count": 9,
   "id": "914fa0a5",
   "metadata": {},
   "outputs": [
    {
     "data": {
      "image/png": "[encoded data removed]",
      "text/plain": [
       "<Figure size 432x288 with 1 Axes>"
      ]
     },
     "metadata": {
      "needs_background": "light"
     },
     "output_type": "display_data"
    }
   ],
   "source": [
    "from Evaluation.Chapter_5_4_1.plot import plot\n",
    "plot()"
   ]
  },
  {
   "cell_type": "markdown",
   "id": "6edcec8e",
   "metadata": {},
   "source": [
    "#### Step4.2.2 缺陷检测能力对比\n",
    "评估一个模糊测试工具的缺陷检测能力，最直接且有效的方法就是统计其在一定时间内发现的引擎缺陷的数量，因此还将通过比较各个工具发现的缺陷个数来衡量ESfunfuzz系统的缺陷检测能力。本实验的具体实施步骤是：使用ESfunfuzz与其他四种模糊测试工具分别进行为期72小时的测试过程，并对所有检测出的可疑用例进行人工分析和缺陷提交，分别统计其触发和确认的缺陷个数，个数越多说明其缺陷检测能力越强。**此步骤对应于论文章节5.4.2**。"
   ]
  },
  {
   "cell_type": "code",
   "execution_count": 10,
   "id": "997f0adb",
   "metadata": {},
   "outputs": [
    {
     "data": {
      "image/png": "[encoded data removed]",
      "text/plain": [
       "<Figure size 432x288 with 1 Axes>"
      ]
     },
     "metadata": {},
     "output_type": "display_data"
    }
   ],
   "source": [
    "from Evaluation.Chapter_5_4_2.plot import plot\n",
    "plot()"
   ]
  },
  {
   "cell_type": "markdown",
   "id": "af40068f",
   "metadata": {},
   "source": [
    "### Step4.3 真实环境下的缺陷检测实验\n",
    "本章截止到目前，所安排的实验设置以及实验结果都很好地说明了本文提出的基于差分标准文档分析和差分模糊测试的JavaScript一致性缺陷检测方法的有效性。然而，检验一个模糊测试工具是否有效，并不能仅仅局限于实验环境下，也必须在真实环境下的检测任务中取得成果。因此，笔者将使用本文提出的ESfunfuzz工具对四个主流JavaScript引擎进行一致性缺陷检测，来验证本文方法的有效性。**此步骤对应于论文章节5.5**。\n",
    "\n",
    "最终，ESfunfuzz成功检测出各类引擎的**一致性缺陷22个**，其中19个得到了开发者确认，具体的检测结果如下所示："
   ]
  },
  {
   "cell_type": "markdown",
   "id": "95fae555",
   "metadata": {},
   "source": [
    "#### ChakraCore\n",
    "\n",
    "| No.  |   Version   |                             Link                             |       State       |                         Description                          |\n",
    "| :--: | :---------: | :----------------------------------------------------------: | :---------------: | :----------------------------------------------------------: |\n",
    "|  1   |  v1.11.12   | [#issue](https://github.com/chakra-core/ChakraCore/issues/6546) |    复现&未修复    |                       重声明变量未报错                       |\n",
    "|  2   | v1.11.12/24 | [#issue](https://github.com/chakra-core/ChakraCore/issues/6550) |    复现&已修复    |                         this++未报错                         |\n",
    "|  3   |  V1.11.24   | [#issue](https://github.com/chakra-core/ChakraCore/issues/6553) |    复现&未修复    |                         if(1)未报错                          |\n",
    "|  6   |   9e2f198   | [#issue](https://github.com/chakra-core/ChakraCore/issues/6567) | 新发现&已修复 |                     重定义TypeError异常                      |\n",
    "|  7   |   9e2f198   | [#issue](https://github.com/chakra-core/ChakraCore/issues/6569) |    复现&未修复    |              RegExp.prototype.toString实现错误               |\n",
    "|  9   | 1_11_latest | [#issue](https://github.com/microsoft/ChakraCore/issues/6503) |    复现&未修复    |             %TypedArray%.prototype.sort实现错误              |\n",
    "|  14  | 1_11_latest |                             None                             |    复现&未修复    |             Proxy对象拦截defineProperty实现错误              |\n",
    "|  16  | 1_11_latest |                             None                             |    复现&未修复    | RegExp.prototype[Symbol.match]与String.prototype.match不关联 |\n",
    "|  17  | 1_11_latest | [#issue](https://github.com/chakra-core/ChakraCore/issues/6582) | 新发现&已修复 |       调用Array.prototype.push时不使用自定义的set方法        |\n",
    "|  20  | 1_11_latest | [#issue](https://github.com/chakra-core/ChakraCore/issues/6589) |     引擎特性      |                   原型链与对象不匹配未报错                   |\n",
    "|  21  | 1_11_latest | [#issue](https://github.com/chakra-core/ChakraCore/issues/6590) |   新发现&未修复   |                    const声明常量后可修改                     |\n",
    "\n",
    "#### JavaScriptCore\n",
    "\n",
    "| No.  |                           Version                            |                           Link                            |       State       |             Description             |\n",
    "| :--: | :----------------------------------------------------------: | :-------------------------------------------------------: | :---------------: | :---------------------------------: |\n",
    "|  4   | [d940b47](https://github.com/WebKit/WebKit-http/commit/d940b477848884f63752d25491d9dd0b9d3ccb2d) | [#report](https://bugs.webkit.org/show_bug.cgi?id=220142) |    复现&未修复    |          重声明变量未报错           |\n",
    "|  8   | [d940b47](https://github.com/WebKit/WebKit-http/commit/d940b477848884f63752d25491d9dd0b9d3ccb2d) |                           None                            |    复现&已修复    |    对freezed对象修改length未报错    |\n",
    "|  10  | [d940b47](https://github.com/WebKit/WebKit-http/commit/d940b477848884f63752d25491d9dd0b9d3ccb2d) |                           None                            |    复现&已修复    |     同5（需要在JSC新版本验证）      |\n",
    "|  11  | [d940b47](https://github.com/WebKit/WebKit-http/commit/d940b477848884f63752d25491d9dd0b9d3ccb2d) | [#report](https://bugs.webkit.org/show_bug.cgi?id=220506) |    复现&已修复    |      for...of...语法错误未报错      |\n",
    "|  12  | [d940b47](https://github.com/WebKit/WebKit-http/commit/d940b477848884f63752d25491d9dd0b9d3ccb2d) | [#report](https://bugs.webkit.org/show_bug.cgi?id=220574) |      待确认       |     已有属性重赋值不调用set方法     |\n",
    "|  13  | [d940b47](https://github.com/WebKit/WebKit-http/commit/d940b477848884f63752d25491d9dd0b9d3ccb2d) | [#report](https://bugs.webkit.org/show_bug.cgi?id=220507) |    复现&已修复    | %TypedArray%.prototype.sort实现错误 |\n",
    "|  15  | [d940b47](https://github.com/WebKit/WebKit-http/commit/d940b477848884f63752d25491d9dd0b9d3ccb2d) |                           None                            |    复现&未修复    | Proxy对象拦截defineProperty实现错误 |\n",
    "|  18  | [d940b47](https://github.com/WebKit/WebKit-http/commit/d940b477848884f63752d25491d9dd0b9d3ccb2d) | [#report](https://bugs.webkit.org/show_bug.cgi?id=220842) |    复现&未修复    |          x与this.x指向不同          |\n",
    "|  22  | [d940b47](https://github.com/WebKit/WebKit-http/commit/d940b477848884f63752d25491d9dd0b9d3ccb2d) | [#report](https://bugs.webkit.org/show_bug.cgi?id=221177) | 新发现&未修复 |    Array.prototype.push实现异常     |\n",
    "\n",
    "#### V8\n",
    "\n",
    "| No.  | Version |                             Link                             | State  |            Description             |\n",
    "| :--: | :-----: | :----------------------------------------------------------: | :----: | :--------------------------------: |\n",
    "|  5   | d891c59 | [#report](https://bugs.chromium.org/p/v8/issues/detail?id=11294) | 待确认 | %TypedArray%.prototype.set实现错误 |\n",
    "|  19  | e39c701 | [#report](https://bugs.chromium.org/p/v8/issues/detail?id=11359) | 待确认 |            new实现异常             |"
   ]
  },
  {
   "cell_type": "code",
   "execution_count": null,
   "id": "60ae5d30",
   "metadata": {},
   "outputs": [],
   "source": []
  }
 ],
 "metadata": {
  "kernelspec": {
   "display_name": "Python 3",
   "language": "python",
   "name": "python3"
  },
  "language_info": {
   "codemirror_mode": {
    "name": "ipython",
    "version": 3
   },
   "file_extension": ".py",
   "mimetype": "text/x-python",
   "name": "python",
   "nbconvert_exporter": "python",
   "pygments_lexer": "ipython3",
   "version": "3.7.5"
  }
 },
 "nbformat": 4,
 "nbformat_minor": 5
}
